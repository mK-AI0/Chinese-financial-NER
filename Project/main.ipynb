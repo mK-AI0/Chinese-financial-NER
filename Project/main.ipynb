{
 "cells": [
  {
   "cell_type": "markdown",
   "metadata": {},
   "source": [
    "## 一、数据集处理"
   ]
  },
  {
   "cell_type": "markdown",
   "metadata": {},
   "source": [
    "### 1、将训练集的mentions转换为text对应的标记"
   ]
  },
  {
   "cell_type": "code",
   "execution_count": 2,
   "metadata": {},
   "outputs": [],
   "source": [
    "import pandas as pd\n",
    "\n",
    "df = pd.read_excel(\"data/train.xlsx\")\n",
    "# 读取训练集\n",
    "\n",
    "B_ENT = 1\n",
    "I_ENT = 2\n",
    "# entity的起始和后续标记\n",
    "\n",
    "for index, row in df.iterrows():\n",
    "# 逐个样本处理\n",
    "\n",
    "    mention_list = eval(row['mentions'])\n",
    "    # mentions的列表\n",
    "\n",
    "    text_len = len(row['text'])\n",
    "    # text字符串的长度\n",
    "\n",
    "    label = [0]*text_len\n",
    "    # 创建与text等长的label\n",
    "\n",
    "    for mention in mention_list:\n",
    "    # 对mention列表的每一个mention做处理，其中每个mention是一个dict\n",
    "\n",
    "        start, end = eval(mention['offset'])\n",
    "        # mention字典中的'offset'字段表示某个实体的开始和结束位置，左闭右开\n",
    "\n",
    "        label[start] = B_ENT\n",
    "        # entity的起始位置标记为B_ENT\n",
    "        \n",
    "        for num in range(start+1, end):\n",
    "            label[num] = I_ENT\n",
    "        # entity的其余位置标记为I_ENT\n",
    "\n",
    "    df.loc[index, \"labels\"] = str(label)\n",
    "    # 存储label\n",
    "\n",
    "df.to_csv(\"train_labeled.csv\")\n",
    "# 保存为新的CSV文件"
   ]
  },
  {
   "cell_type": "code",
   "execution_count": null,
   "metadata": {},
   "outputs": [],
   "source": []
  }
 ],
 "metadata": {
  "kernelspec": {
   "display_name": "base",
   "language": "python",
   "name": "python3"
  },
  "language_info": {
   "codemirror_mode": {
    "name": "ipython",
    "version": 3
   },
   "file_extension": ".py",
   "mimetype": "text/x-python",
   "name": "python",
   "nbconvert_exporter": "python",
   "pygments_lexer": "ipython3",
   "version": "3.9.7"
  },
  "orig_nbformat": 4
 },
 "nbformat": 4,
 "nbformat_minor": 2
}
